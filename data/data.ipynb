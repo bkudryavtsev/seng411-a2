{
 "cells": [
  {
   "cell_type": "code",
   "execution_count": 4,
   "id": "driving-equipment",
   "metadata": {},
   "outputs": [],
   "source": [
    "import json\n",
    "import pandas as pd\n",
    "import numpy as np"
   ]
  },
  {
   "cell_type": "code",
   "execution_count": 5,
   "id": "green-bones",
   "metadata": {},
   "outputs": [],
   "source": [
    "f = open('partial.json')\n",
    "data = json.load(f)\n",
    "\n",
    "rows = []\n",
    "columns = ['timestamp', 'userId', 'trial', 'representation', 'duration', 'error'];\n",
    "\n",
    "for i in range(0, len(data['trials'].keys()) - 1):\n",
    "    row_dict = data['trials'][str(i)]\n",
    "    row = []\n",
    "    for col in columns:\n",
    "        row.append(row_dict[col])\n",
    "    rows.append(row)\n",
    "    \n",
    "df = pd.DataFrame(np.array(rows), columns=columns)"
   ]
  },
  {
   "cell_type": "code",
   "execution_count": 6,
   "id": "grand-model",
   "metadata": {},
   "outputs": [
    {
     "data": {
      "text/html": [
       "<div>\n",
       "<style scoped>\n",
       "    .dataframe tbody tr th:only-of-type {\n",
       "        vertical-align: middle;\n",
       "    }\n",
       "\n",
       "    .dataframe tbody tr th {\n",
       "        vertical-align: top;\n",
       "    }\n",
       "\n",
       "    .dataframe thead th {\n",
       "        text-align: right;\n",
       "    }\n",
       "</style>\n",
       "<table border=\"1\" class=\"dataframe\">\n",
       "  <thead>\n",
       "    <tr style=\"text-align: right;\">\n",
       "      <th></th>\n",
       "      <th>timestamp</th>\n",
       "      <th>userId</th>\n",
       "      <th>trial</th>\n",
       "      <th>representation</th>\n",
       "      <th>duration</th>\n",
       "      <th>error</th>\n",
       "    </tr>\n",
       "  </thead>\n",
       "  <tbody>\n",
       "    <tr>\n",
       "      <th>0</th>\n",
       "      <td>1616734022886</td>\n",
       "      <td>0</td>\n",
       "      <td>1</td>\n",
       "      <td>bubble</td>\n",
       "      <td>1221</td>\n",
       "      <td>63</td>\n",
       "    </tr>\n",
       "    <tr>\n",
       "      <th>1</th>\n",
       "      <td>1616734024467</td>\n",
       "      <td>0</td>\n",
       "      <td>2</td>\n",
       "      <td>bubble</td>\n",
       "      <td>1079</td>\n",
       "      <td>16</td>\n",
       "    </tr>\n",
       "    <tr>\n",
       "      <th>2</th>\n",
       "      <td>1616734026623</td>\n",
       "      <td>0</td>\n",
       "      <td>3</td>\n",
       "      <td>bubble</td>\n",
       "      <td>1654</td>\n",
       "      <td>54</td>\n",
       "    </tr>\n",
       "    <tr>\n",
       "      <th>3</th>\n",
       "      <td>1616734028295</td>\n",
       "      <td>0</td>\n",
       "      <td>4</td>\n",
       "      <td>bubble</td>\n",
       "      <td>1170</td>\n",
       "      <td>15</td>\n",
       "    </tr>\n",
       "    <tr>\n",
       "      <th>4</th>\n",
       "      <td>1616734030931</td>\n",
       "      <td>0</td>\n",
       "      <td>5</td>\n",
       "      <td>bubble</td>\n",
       "      <td>2134</td>\n",
       "      <td>34</td>\n",
       "    </tr>\n",
       "  </tbody>\n",
       "</table>\n",
       "</div>"
      ],
      "text/plain": [
       "       timestamp userId trial representation duration error\n",
       "0  1616734022886      0     1         bubble     1221    63\n",
       "1  1616734024467      0     2         bubble     1079    16\n",
       "2  1616734026623      0     3         bubble     1654    54\n",
       "3  1616734028295      0     4         bubble     1170    15\n",
       "4  1616734030931      0     5         bubble     2134    34"
      ]
     },
     "execution_count": 6,
     "metadata": {},
     "output_type": "execute_result"
    }
   ],
   "source": [
    "df.head(5)"
   ]
  },
  {
   "cell_type": "code",
   "execution_count": 7,
   "id": "moved-material",
   "metadata": {},
   "outputs": [],
   "source": [
    "df.to_csv('data.csv', index=False)"
   ]
  },
  {
   "cell_type": "code",
   "execution_count": null,
   "id": "stone-reverse",
   "metadata": {},
   "outputs": [],
   "source": []
  }
 ],
 "metadata": {
  "kernelspec": {
   "display_name": "Python 3",
   "language": "python",
   "name": "python3"
  },
  "language_info": {
   "codemirror_mode": {
    "name": "ipython",
    "version": 3
   },
   "file_extension": ".py",
   "mimetype": "text/x-python",
   "name": "python",
   "nbconvert_exporter": "python",
   "pygments_lexer": "ipython3",
   "version": "3.9.1"
  }
 },
 "nbformat": 4,
 "nbformat_minor": 5
}
